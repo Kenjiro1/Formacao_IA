{
  "nbformat": 4,
  "nbformat_minor": 0,
  "metadata": {
    "colab": {
      "provenance": [],
      "authorship_tag": "ABX9TyO9NW9bKYYcoyiwLSyL0WW7",
      "include_colab_link": true
    },
    "kernelspec": {
      "name": "python3",
      "display_name": "Python 3"
    },
    "language_info": {
      "name": "python"
    }
  },
  "cells": [
    {
      "cell_type": "markdown",
      "metadata": {
        "id": "view-in-github",
        "colab_type": "text"
      },
      "source": [
        "<a href=\"https://colab.research.google.com/github/Kenjiro1/Formacao_IA/blob/main/Projetos/AutoMLH20.ipynb\" target=\"_parent\"><img src=\"https://colab.research.google.com/assets/colab-badge.svg\" alt=\"Open In Colab\"/></a>"
      ]
    },
    {
      "cell_type": "code",
      "execution_count": 12,
      "metadata": {
        "id": "84Ki17IRx8Ix"
      },
      "outputs": [],
      "source": [
        "#Biblioteca MLH20"
      ]
    },
    {
      "cell_type": "code",
      "source": [
        "!pip install h2o"
      ],
      "metadata": {
        "colab": {
          "base_uri": "https://localhost:8080/"
        },
        "id": "2Jx_vdr60JMq",
        "outputId": "489edd52-2862-4bad-86f4-626eed286a66"
      },
      "execution_count": 13,
      "outputs": [
        {
          "output_type": "stream",
          "name": "stdout",
          "text": [
            "Requirement already satisfied: h2o in /usr/local/lib/python3.12/dist-packages (3.46.0.7)\n",
            "Requirement already satisfied: requests in /usr/local/lib/python3.12/dist-packages (from h2o) (2.32.4)\n",
            "Requirement already satisfied: tabulate in /usr/local/lib/python3.12/dist-packages (from h2o) (0.9.0)\n",
            "Requirement already satisfied: charset_normalizer<4,>=2 in /usr/local/lib/python3.12/dist-packages (from requests->h2o) (3.4.3)\n",
            "Requirement already satisfied: idna<4,>=2.5 in /usr/local/lib/python3.12/dist-packages (from requests->h2o) (3.10)\n",
            "Requirement already satisfied: urllib3<3,>=1.21.1 in /usr/local/lib/python3.12/dist-packages (from requests->h2o) (2.5.0)\n",
            "Requirement already satisfied: certifi>=2017.4.17 in /usr/local/lib/python3.12/dist-packages (from requests->h2o) (2025.8.3)\n"
          ]
        }
      ]
    },
    {
      "cell_type": "code",
      "source": [
        "import h2o\n",
        "from h2o.automl import H2OAutoML  #Funciona com um conceito semelhante ao cluster"
      ],
      "metadata": {
        "id": "o7sea6gE1qWR"
      },
      "execution_count": 14,
      "outputs": []
    },
    {
      "cell_type": "code",
      "source": [
        "h2o.init()"
      ],
      "metadata": {
        "colab": {
          "base_uri": "https://localhost:8080/",
          "height": 439
        },
        "id": "n7A95Akq2rJr",
        "outputId": "5959a2e8-f51a-4cb9-bea1-a72ee0d5fe7a"
      },
      "execution_count": 15,
      "outputs": [
        {
          "output_type": "stream",
          "name": "stdout",
          "text": [
            "Checking whether there is an H2O instance running at http://localhost:54321. connected.\n",
            "Warning: Your H2O cluster version is (5 months and 25 days) old.  There may be a newer version available.\n",
            "Please download and install the latest version from: https://h2o-release.s3.amazonaws.com/h2o/latest_stable.html\n"
          ]
        },
        {
          "output_type": "display_data",
          "data": {
            "text/plain": [
              "--------------------------  -----------------------------------------------------------------------------------------\n",
              "H2O_cluster_uptime:         40 mins 07 secs\n",
              "H2O_cluster_timezone:       Etc/UTC\n",
              "H2O_data_parsing_timezone:  UTC\n",
              "H2O_cluster_version:        3.46.0.7\n",
              "H2O_cluster_version_age:    5 months and 25 days\n",
              "H2O_cluster_name:           H2O_from_python_unknownUser_hsotsq\n",
              "H2O_cluster_total_nodes:    1\n",
              "H2O_cluster_free_memory:    3.110 Gb\n",
              "H2O_cluster_total_cores:    2\n",
              "H2O_cluster_allowed_cores:  2\n",
              "H2O_cluster_status:         locked, healthy\n",
              "H2O_connection_url:         http://localhost:54321\n",
              "H2O_connection_proxy:       {\"http\": null, \"https\": null, \"colab_language_server\": \"/usr/colab/bin/language_service\"}\n",
              "H2O_internal_security:      False\n",
              "Python_version:             3.12.11 final\n",
              "--------------------------  -----------------------------------------------------------------------------------------"
            ],
            "text/html": [
              "\n",
              "<style>\n",
              "\n",
              "#h2o-table-10.h2o-container {\n",
              "  overflow-x: auto;\n",
              "}\n",
              "#h2o-table-10 .h2o-table {\n",
              "  /* width: 100%; */\n",
              "  margin-top: 1em;\n",
              "  margin-bottom: 1em;\n",
              "}\n",
              "#h2o-table-10 .h2o-table caption {\n",
              "  white-space: nowrap;\n",
              "  caption-side: top;\n",
              "  text-align: left;\n",
              "  /* margin-left: 1em; */\n",
              "  margin: 0;\n",
              "  font-size: larger;\n",
              "}\n",
              "#h2o-table-10 .h2o-table thead {\n",
              "  white-space: nowrap; \n",
              "  position: sticky;\n",
              "  top: 0;\n",
              "  box-shadow: 0 -1px inset;\n",
              "}\n",
              "#h2o-table-10 .h2o-table tbody {\n",
              "  overflow: auto;\n",
              "}\n",
              "#h2o-table-10 .h2o-table th,\n",
              "#h2o-table-10 .h2o-table td {\n",
              "  text-align: right;\n",
              "  /* border: 1px solid; */\n",
              "}\n",
              "#h2o-table-10 .h2o-table tr:nth-child(even) {\n",
              "  /* background: #F5F5F5 */\n",
              "}\n",
              "\n",
              "</style>      \n",
              "<div id=\"h2o-table-10\" class=\"h2o-container\">\n",
              "  <table class=\"h2o-table\">\n",
              "    <caption></caption>\n",
              "    <thead></thead>\n",
              "    <tbody><tr><td>H2O_cluster_uptime:</td>\n",
              "<td>40 mins 07 secs</td></tr>\n",
              "<tr><td>H2O_cluster_timezone:</td>\n",
              "<td>Etc/UTC</td></tr>\n",
              "<tr><td>H2O_data_parsing_timezone:</td>\n",
              "<td>UTC</td></tr>\n",
              "<tr><td>H2O_cluster_version:</td>\n",
              "<td>3.46.0.7</td></tr>\n",
              "<tr><td>H2O_cluster_version_age:</td>\n",
              "<td>5 months and 25 days</td></tr>\n",
              "<tr><td>H2O_cluster_name:</td>\n",
              "<td>H2O_from_python_unknownUser_hsotsq</td></tr>\n",
              "<tr><td>H2O_cluster_total_nodes:</td>\n",
              "<td>1</td></tr>\n",
              "<tr><td>H2O_cluster_free_memory:</td>\n",
              "<td>3.110 Gb</td></tr>\n",
              "<tr><td>H2O_cluster_total_cores:</td>\n",
              "<td>2</td></tr>\n",
              "<tr><td>H2O_cluster_allowed_cores:</td>\n",
              "<td>2</td></tr>\n",
              "<tr><td>H2O_cluster_status:</td>\n",
              "<td>locked, healthy</td></tr>\n",
              "<tr><td>H2O_connection_url:</td>\n",
              "<td>http://localhost:54321</td></tr>\n",
              "<tr><td>H2O_connection_proxy:</td>\n",
              "<td>{\"http\": null, \"https\": null, \"colab_language_server\": \"/usr/colab/bin/language_service\"}</td></tr>\n",
              "<tr><td>H2O_internal_security:</td>\n",
              "<td>False</td></tr>\n",
              "<tr><td>Python_version:</td>\n",
              "<td>3.12.11 final</td></tr></tbody>\n",
              "  </table>\n",
              "</div>\n"
            ]
          },
          "metadata": {}
        }
      ]
    },
    {
      "cell_type": "code",
      "source": [
        "url = 'https://raw.githubusercontent.com/Kenjiro1/Formacao_IA/refs/heads/main/dados/insurance.csv'"
      ],
      "metadata": {
        "id": "dt2htFos6I9L"
      },
      "execution_count": 16,
      "outputs": []
    },
    {
      "cell_type": "code",
      "source": [
        "#Para leitura vamos utilizar uma ferramento do proprio h2o\n",
        "\n",
        "data = h2o.import_file(url)"
      ],
      "metadata": {
        "colab": {
          "base_uri": "https://localhost:8080/"
        },
        "id": "Z8fvmdRN6PDz",
        "outputId": "e4ac818b-bca7-4301-c650-b794248cefd3"
      },
      "execution_count": 17,
      "outputs": [
        {
          "output_type": "stream",
          "name": "stdout",
          "text": [
            "Parse progress: |████████████████████████████████████████████████████████████████| (done) 100%\n"
          ]
        }
      ]
    },
    {
      "cell_type": "code",
      "source": [
        "data"
      ],
      "metadata": {
        "colab": {
          "base_uri": "https://localhost:8080/",
          "height": 409
        },
        "id": "G2dPH36h7dIa",
        "outputId": "07fa905a-ab2a-4e74-ba95-fa08711770ad"
      },
      "execution_count": 18,
      "outputs": [
        {
          "output_type": "execute_result",
          "data": {
            "text/plain": [
              "  C1  GoodStudent    Age         SocioEcon    RiskAversion    VehicleYear    ThisCarDam    RuggedAuto    Accident    MakeModel    DrivQuality    Mileage     Antilock    DrivingSkill    SeniorTrain    ThisCarCost    Theft    CarValue    HomeBase    AntiTheft    PropCost     OtherCarCost    OtherCar    MedCost    Cushioning    Airbag    ILiCost    DrivHist\n",
              "----  -------------  ----------  -----------  --------------  -------------  ------------  ------------  ----------  -----------  -------------  ----------  ----------  --------------  -------------  -------------  -------  ----------  ----------  -----------  -----------  --------------  ----------  ---------  ------------  --------  ---------  ----------\n",
              "   1  False          Adult       Prole        Adventurous     Older          Moderate      EggShell      Mild        Economy      Poor           TwentyThou  False       SubStandard     False          TenThou        False    FiveThou    City        False        TenThou      Thousand        True        Thousand   Poor          False     Thousand   Many\n",
              "   2  False          Senior      Prole        Cautious        Current        None          Football      None        Economy      Normal         TwentyThou  False       Normal          True           Thousand       False    TenThou     City        True         Thousand     Thousand        True        Thousand   Good          True      Thousand   Zero\n",
              "   3  False          Senior      UpperMiddle  Psychopath      Current        None          Football      None        FamilySedan  Excellent      Domino      True        Normal          False          Thousand       False    TwentyThou  City        False        Thousand     Thousand        False       Thousand   Good          True      Thousand   One\n",
              "   4  False          Adolescent  Middle       Normal          Older          None          EggShell      None        Economy      Normal         FiftyThou   False       Normal          False          Thousand       False    FiveThou    Suburb      False        Thousand     Thousand        True        Thousand   Fair          False     Thousand   Zero\n",
              "   5  False          Adolescent  Prole        Normal          Older          Moderate      Football      Moderate    Economy      Poor           FiftyThou   False       SubStandard     False          TenThou        False    FiveThou    City        False        TenThou      Thousand        False       Thousand   Fair          False     Thousand   Many\n",
              "   6  False          Adult       UpperMiddle  Normal          Current        Moderate      EggShell      Moderate    SportsCar    Poor           FiftyThou   True        SubStandard     False          HundredThou    False    TwentyThou  Suburb      True         HundredThou  HundredThou     True        TenThou    Poor          True      Thousand   Many\n",
              "   7  False          Senior      UpperMiddle  Normal          Current        Mild          Football      Mild        Economy      Poor           FiveThou    False       SubStandard     False          TenThou        False    TenThou     Secure      True         TenThou      Thousand        False       Thousand   Excellent     True      Thousand   Many\n",
              "   8  False          Adult       Prole        Normal          Older          Severe        EggShell      Severe      Economy      Poor           TwentyThou  False       SubStandard     False          TenThou        False    TenThou     City        False        Million      HundredThou     True        Thousand   Fair          False     Thousand   Many\n",
              "   9  False          Adult       Prole        Normal          Older          Severe        EggShell      Severe      Economy      Poor           TwentyThou  False       SubStandard     False          TenThou        False    FiveThou    City        False        HundredThou  TenThou         False       TenThou    Poor          False     Thousand   Many\n",
              "  10  True           Adolescent  Prole        Cautious        Older          Severe        Football      Severe      FamilySedan  Poor           TwentyThou  False       SubStandard     False          TenThou        False    FiveThou    City        True         HundredThou  HundredThou     True        Thousand   Good          False     Thousand   Many\n",
              "[20000 rows x 28 columns]\n"
            ],
            "text/html": [
              "<table class='dataframe'>\n",
              "<thead>\n",
              "<tr><th style=\"text-align: right;\">  C1</th><th>GoodStudent  </th><th>Age       </th><th>SocioEcon  </th><th>RiskAversion  </th><th>VehicleYear  </th><th>ThisCarDam  </th><th>RuggedAuto  </th><th>Accident  </th><th>MakeModel  </th><th>DrivQuality  </th><th>Mileage   </th><th>Antilock  </th><th>DrivingSkill  </th><th>SeniorTrain  </th><th>ThisCarCost  </th><th>Theft  </th><th>CarValue  </th><th>HomeBase  </th><th>AntiTheft  </th><th>PropCost   </th><th>OtherCarCost  </th><th>OtherCar  </th><th>MedCost  </th><th>Cushioning  </th><th>Airbag  </th><th>ILiCost  </th><th>DrivHist  </th></tr>\n",
              "</thead>\n",
              "<tbody>\n",
              "<tr><td style=\"text-align: right;\">   1</td><td>False        </td><td>Adult     </td><td>Prole      </td><td>Adventurous   </td><td>Older        </td><td>Moderate    </td><td>EggShell    </td><td>Mild      </td><td>Economy    </td><td>Poor         </td><td>TwentyThou</td><td>False     </td><td>SubStandard   </td><td>False        </td><td>TenThou      </td><td>False  </td><td>FiveThou  </td><td>City      </td><td>False      </td><td>TenThou    </td><td>Thousand      </td><td>True      </td><td>Thousand </td><td>Poor        </td><td>False   </td><td>Thousand </td><td>Many      </td></tr>\n",
              "<tr><td style=\"text-align: right;\">   2</td><td>False        </td><td>Senior    </td><td>Prole      </td><td>Cautious      </td><td>Current      </td><td>None        </td><td>Football    </td><td>None      </td><td>Economy    </td><td>Normal       </td><td>TwentyThou</td><td>False     </td><td>Normal        </td><td>True         </td><td>Thousand     </td><td>False  </td><td>TenThou   </td><td>City      </td><td>True       </td><td>Thousand   </td><td>Thousand      </td><td>True      </td><td>Thousand </td><td>Good        </td><td>True    </td><td>Thousand </td><td>Zero      </td></tr>\n",
              "<tr><td style=\"text-align: right;\">   3</td><td>False        </td><td>Senior    </td><td>UpperMiddle</td><td>Psychopath    </td><td>Current      </td><td>None        </td><td>Football    </td><td>None      </td><td>FamilySedan</td><td>Excellent    </td><td>Domino    </td><td>True      </td><td>Normal        </td><td>False        </td><td>Thousand     </td><td>False  </td><td>TwentyThou</td><td>City      </td><td>False      </td><td>Thousand   </td><td>Thousand      </td><td>False     </td><td>Thousand </td><td>Good        </td><td>True    </td><td>Thousand </td><td>One       </td></tr>\n",
              "<tr><td style=\"text-align: right;\">   4</td><td>False        </td><td>Adolescent</td><td>Middle     </td><td>Normal        </td><td>Older        </td><td>None        </td><td>EggShell    </td><td>None      </td><td>Economy    </td><td>Normal       </td><td>FiftyThou </td><td>False     </td><td>Normal        </td><td>False        </td><td>Thousand     </td><td>False  </td><td>FiveThou  </td><td>Suburb    </td><td>False      </td><td>Thousand   </td><td>Thousand      </td><td>True      </td><td>Thousand </td><td>Fair        </td><td>False   </td><td>Thousand </td><td>Zero      </td></tr>\n",
              "<tr><td style=\"text-align: right;\">   5</td><td>False        </td><td>Adolescent</td><td>Prole      </td><td>Normal        </td><td>Older        </td><td>Moderate    </td><td>Football    </td><td>Moderate  </td><td>Economy    </td><td>Poor         </td><td>FiftyThou </td><td>False     </td><td>SubStandard   </td><td>False        </td><td>TenThou      </td><td>False  </td><td>FiveThou  </td><td>City      </td><td>False      </td><td>TenThou    </td><td>Thousand      </td><td>False     </td><td>Thousand </td><td>Fair        </td><td>False   </td><td>Thousand </td><td>Many      </td></tr>\n",
              "<tr><td style=\"text-align: right;\">   6</td><td>False        </td><td>Adult     </td><td>UpperMiddle</td><td>Normal        </td><td>Current      </td><td>Moderate    </td><td>EggShell    </td><td>Moderate  </td><td>SportsCar  </td><td>Poor         </td><td>FiftyThou </td><td>True      </td><td>SubStandard   </td><td>False        </td><td>HundredThou  </td><td>False  </td><td>TwentyThou</td><td>Suburb    </td><td>True       </td><td>HundredThou</td><td>HundredThou   </td><td>True      </td><td>TenThou  </td><td>Poor        </td><td>True    </td><td>Thousand </td><td>Many      </td></tr>\n",
              "<tr><td style=\"text-align: right;\">   7</td><td>False        </td><td>Senior    </td><td>UpperMiddle</td><td>Normal        </td><td>Current      </td><td>Mild        </td><td>Football    </td><td>Mild      </td><td>Economy    </td><td>Poor         </td><td>FiveThou  </td><td>False     </td><td>SubStandard   </td><td>False        </td><td>TenThou      </td><td>False  </td><td>TenThou   </td><td>Secure    </td><td>True       </td><td>TenThou    </td><td>Thousand      </td><td>False     </td><td>Thousand </td><td>Excellent   </td><td>True    </td><td>Thousand </td><td>Many      </td></tr>\n",
              "<tr><td style=\"text-align: right;\">   8</td><td>False        </td><td>Adult     </td><td>Prole      </td><td>Normal        </td><td>Older        </td><td>Severe      </td><td>EggShell    </td><td>Severe    </td><td>Economy    </td><td>Poor         </td><td>TwentyThou</td><td>False     </td><td>SubStandard   </td><td>False        </td><td>TenThou      </td><td>False  </td><td>TenThou   </td><td>City      </td><td>False      </td><td>Million    </td><td>HundredThou   </td><td>True      </td><td>Thousand </td><td>Fair        </td><td>False   </td><td>Thousand </td><td>Many      </td></tr>\n",
              "<tr><td style=\"text-align: right;\">   9</td><td>False        </td><td>Adult     </td><td>Prole      </td><td>Normal        </td><td>Older        </td><td>Severe      </td><td>EggShell    </td><td>Severe    </td><td>Economy    </td><td>Poor         </td><td>TwentyThou</td><td>False     </td><td>SubStandard   </td><td>False        </td><td>TenThou      </td><td>False  </td><td>FiveThou  </td><td>City      </td><td>False      </td><td>HundredThou</td><td>TenThou       </td><td>False     </td><td>TenThou  </td><td>Poor        </td><td>False   </td><td>Thousand </td><td>Many      </td></tr>\n",
              "<tr><td style=\"text-align: right;\">  10</td><td>True         </td><td>Adolescent</td><td>Prole      </td><td>Cautious      </td><td>Older        </td><td>Severe      </td><td>Football    </td><td>Severe    </td><td>FamilySedan</td><td>Poor         </td><td>TwentyThou</td><td>False     </td><td>SubStandard   </td><td>False        </td><td>TenThou      </td><td>False  </td><td>FiveThou  </td><td>City      </td><td>True       </td><td>HundredThou</td><td>HundredThou   </td><td>True      </td><td>Thousand </td><td>Good        </td><td>False   </td><td>Thousand </td><td>Many      </td></tr>\n",
              "</tbody>\n",
              "</table><pre style='font-size: smaller; margin-bottom: 1em;'>[20000 rows x 28 columns]</pre>"
            ]
          },
          "metadata": {},
          "execution_count": 18
        }
      ]
    },
    {
      "cell_type": "code",
      "source": [
        "data = data.drop(\"C1\")"
      ],
      "metadata": {
        "id": "fRYDV7TdEQZk"
      },
      "execution_count": 19,
      "outputs": []
    },
    {
      "cell_type": "code",
      "source": [
        "treino, teste = data.split_frame(ratios=[0.7], seed=0)"
      ],
      "metadata": {
        "id": "ecoaeBsZEUDj"
      },
      "execution_count": 20,
      "outputs": []
    },
    {
      "cell_type": "code",
      "source": [
        "model_automl = H2OAutoML(max_runtime_secs = 180, sort_metric='AUTO')\n",
        "model_automl.train(y=\"Accident\",training_frame = treino)"
      ],
      "metadata": {
        "id": "pEgHIfbOEacc",
        "colab": {
          "base_uri": "https://localhost:8080/"
        },
        "outputId": "e9fee772-f763-4c93-b398-acaf9cefa7df"
      },
      "execution_count": null,
      "outputs": [
        {
          "output_type": "stream",
          "name": "stdout",
          "text": [
            "AutoML progress: |██████████████████\n",
            "04:46:08.640: GLM_1_AutoML_2_20250922_44517 [GLM def_1] failed: java.lang.ArrayIndexOutOfBoundsException: Index 83 out of bounds for length 83\n",
            "\n",
            "██████████████████"
          ]
        }
      ]
    },
    {
      "cell_type": "code",
      "source": [
        "#Quais modelos foram criados?\n",
        "ranking = model_automl.leaderboard\n",
        "ranking = ranking.as_data_frame()\n",
        "ranking"
      ],
      "metadata": {
        "id": "F2TTjClvh0gx"
      },
      "execution_count": null,
      "outputs": []
    },
    {
      "cell_type": "code",
      "source": [
        "prever = model_automl.leader.predict(teste)\n",
        "prever"
      ],
      "metadata": {
        "id": "uyLQAsvzuu8_"
      },
      "execution_count": null,
      "outputs": []
    }
  ]
}