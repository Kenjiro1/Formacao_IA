{
  "nbformat": 4,
  "nbformat_minor": 0,
  "metadata": {
    "colab": {
      "provenance": [],
      "authorship_tag": "ABX9TyMaMArWQ68aRzWsm+GEJEo7",
      "include_colab_link": true
    },
    "kernelspec": {
      "name": "python3",
      "display_name": "Python 3"
    },
    "language_info": {
      "name": "python"
    }
  },
  "cells": [
    {
      "cell_type": "markdown",
      "metadata": {
        "id": "view-in-github",
        "colab_type": "text"
      },
      "source": [
        "<a href=\"https://colab.research.google.com/github/Kenjiro1/Formacao_IA/blob/main/LLMs/Gemini.ipynb\" target=\"_parent\"><img src=\"https://colab.research.google.com/assets/colab-badge.svg\" alt=\"Open In Colab\"/></a>"
      ]
    },
    {
      "cell_type": "code",
      "execution_count": 1,
      "metadata": {
        "colab": {
          "base_uri": "https://localhost:8080/"
        },
        "id": "nJWfE7qhwgAe",
        "outputId": "a949afe4-f1b0-490c-8402-584cfaa2289c"
      },
      "outputs": [
        {
          "output_type": "stream",
          "name": "stdout",
          "text": [
            "Requirement already satisfied: python-dotenv in /usr/local/lib/python3.12/dist-packages (1.1.1)\n"
          ]
        }
      ],
      "source": [
        "\n",
        "!pip install python-dotenv"
      ]
    },
    {
      "cell_type": "code",
      "source": [
        "import google.generativeai as genai"
      ],
      "metadata": {
        "id": "O7C1ygNCxJ4E"
      },
      "execution_count": 5,
      "outputs": []
    },
    {
      "cell_type": "code",
      "source": [
        "from dotenv import load_dotenv\n",
        "import os\n",
        "from openai import OpenAI\n",
        "#Por questoes de segurança utilziei esse metodo para não publicar minha chave\n",
        "load_dotenv('/content/API.env')\n",
        "genai.configure(api_key=os.getenv(\"API\"))"
      ],
      "metadata": {
        "id": "hrlTp5UFw4vZ"
      },
      "execution_count": 9,
      "outputs": []
    },
    {
      "cell_type": "code",
      "source": [
        "model = genai.GenerativeModel('gemini-2.5-pro') # No curso é recomendado utilizar o 1.5\n",
        "#mas como esse modelo foi descontinuado ele retorna um valor de 404 not found\n",
        "conversation = 'Voce é um assistente util que responde de maneira clara e objetivo sempre usando exemplos' + \"Cite uma frase de Carl Sagan\"\n",
        "\n",
        "response = model.generate_content(conversation)"
      ],
      "metadata": {
        "id": "1hTNsdAcxVJA"
      },
      "execution_count": 13,
      "outputs": []
    },
    {
      "cell_type": "code",
      "source": [
        "print(response.text)"
      ],
      "metadata": {
        "colab": {
          "base_uri": "https://localhost:8080/",
          "height": 88
        },
        "id": "fp4Fhu5Ry-_u",
        "outputId": "7e611ac0-3356-4d23-c268-32b33054a49a"
      },
      "execution_count": 14,
      "outputs": [
        {
          "output_type": "execute_result",
          "data": {
            "text/plain": [
              "'Claro. Uma das frases mais célebres de Carl Sagan é:\\n\\n**\"Somos poeira de estrelas.\"**\\n\\nEssa afirmação poética é, na verdade, um fato científico. Ela significa que os elementos químicos que compõem tudo o que conhecemos, inclusive nossos próprios corpos, foram forjados no interior de estrelas que viveram e morreram há bilhões de anos.\\n\\n**Exemplo:** O cálcio em seus ossos, o ferro em seu sangue e o carbono em seu DNA não se originaram na Terra. Eles foram criados através da fusão nuclear dentro de estrelas massivas. Quando essas estrelas explodiram como supernovas, espalharam esses elementos pelo universo, que eventualmente se agruparam para formar nosso planeta e, por fim, a vida.'"
            ],
            "application/vnd.google.colaboratory.intrinsic+json": {
              "type": "string"
            }
          },
          "metadata": {},
          "execution_count": 14
        }
      ]
    }
  ]
}