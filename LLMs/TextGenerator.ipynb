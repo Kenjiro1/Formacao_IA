{
  "nbformat": 4,
  "nbformat_minor": 0,
  "metadata": {
    "colab": {
      "provenance": [],
      "authorship_tag": "ABX9TyOmAMOnTicZ+IH1gC+fpVl0",
      "include_colab_link": true
    },
    "kernelspec": {
      "name": "python3",
      "display_name": "Python 3"
    },
    "language_info": {
      "name": "python"
    }
  },
  "cells": [
    {
      "cell_type": "markdown",
      "metadata": {
        "id": "view-in-github",
        "colab_type": "text"
      },
      "source": [
        "<a href=\"https://colab.research.google.com/github/Kenjiro1/Formacao_IA/blob/main/LLMs/TextGenerator.ipynb\" target=\"_parent\"><img src=\"https://colab.research.google.com/assets/colab-badge.svg\" alt=\"Open In Colab\"/></a>"
      ]
    },
    {
      "cell_type": "code",
      "execution_count": 2,
      "metadata": {
        "id": "-znrGrjJJJCg",
        "colab": {
          "base_uri": "https://localhost:8080/"
        },
        "outputId": "34fe1600-56d8-4504-84fe-a880a3851dd8"
      },
      "outputs": [
        {
          "output_type": "stream",
          "name": "stdout",
          "text": [
            "Requirement already satisfied: transformers in /usr/local/lib/python3.12/dist-packages (4.57.1)\n",
            "Requirement already satisfied: filelock in /usr/local/lib/python3.12/dist-packages (from transformers) (3.20.0)\n",
            "Requirement already satisfied: huggingface-hub<1.0,>=0.34.0 in /usr/local/lib/python3.12/dist-packages (from transformers) (0.35.3)\n",
            "Requirement already satisfied: numpy>=1.17 in /usr/local/lib/python3.12/dist-packages (from transformers) (2.0.2)\n",
            "Requirement already satisfied: packaging>=20.0 in /usr/local/lib/python3.12/dist-packages (from transformers) (25.0)\n",
            "Requirement already satisfied: pyyaml>=5.1 in /usr/local/lib/python3.12/dist-packages (from transformers) (6.0.3)\n",
            "Requirement already satisfied: regex!=2019.12.17 in /usr/local/lib/python3.12/dist-packages (from transformers) (2024.11.6)\n",
            "Requirement already satisfied: requests in /usr/local/lib/python3.12/dist-packages (from transformers) (2.32.4)\n",
            "Requirement already satisfied: tokenizers<=0.23.0,>=0.22.0 in /usr/local/lib/python3.12/dist-packages (from transformers) (0.22.1)\n",
            "Requirement already satisfied: safetensors>=0.4.3 in /usr/local/lib/python3.12/dist-packages (from transformers) (0.6.2)\n",
            "Requirement already satisfied: tqdm>=4.27 in /usr/local/lib/python3.12/dist-packages (from transformers) (4.67.1)\n",
            "Requirement already satisfied: fsspec>=2023.5.0 in /usr/local/lib/python3.12/dist-packages (from huggingface-hub<1.0,>=0.34.0->transformers) (2025.3.0)\n",
            "Requirement already satisfied: typing-extensions>=3.7.4.3 in /usr/local/lib/python3.12/dist-packages (from huggingface-hub<1.0,>=0.34.0->transformers) (4.15.0)\n",
            "Requirement already satisfied: hf-xet<2.0.0,>=1.1.3 in /usr/local/lib/python3.12/dist-packages (from huggingface-hub<1.0,>=0.34.0->transformers) (1.1.10)\n",
            "Requirement already satisfied: charset_normalizer<4,>=2 in /usr/local/lib/python3.12/dist-packages (from requests->transformers) (3.4.4)\n",
            "Requirement already satisfied: idna<4,>=2.5 in /usr/local/lib/python3.12/dist-packages (from requests->transformers) (3.11)\n",
            "Requirement already satisfied: urllib3<3,>=1.21.1 in /usr/local/lib/python3.12/dist-packages (from requests->transformers) (2.5.0)\n",
            "Requirement already satisfied: certifi>=2017.4.17 in /usr/local/lib/python3.12/dist-packages (from requests->transformers) (2025.10.5)\n"
          ]
        }
      ],
      "source": [
        "!pip install transformers"
      ]
    },
    {
      "cell_type": "code",
      "source": [
        "import transformers\n",
        "from transformers import pipeline"
      ],
      "metadata": {
        "id": "yARrZ3axajeT"
      },
      "execution_count": 3,
      "outputs": []
    },
    {
      "cell_type": "code",
      "source": [
        "gerador = pipeline(\"text-generation\", model = 'pierreguillou/gpt2-small-portuguese') # tipo da tarefa que quero executar\n",
        "\n",
        "text = 'Em sentido estrito, ciência refere-se ao sistema de adquirir conhecimento baseado no método cietífico'\n",
        "\n",
        "resultado = gerador(text, max_length=100, do_sample=True, truncation =True)\n",
        "print(resultado)"
      ],
      "metadata": {
        "colab": {
          "base_uri": "https://localhost:8080/"
        },
        "id": "ms8990JYatRU",
        "outputId": "4ec70ead-3e34-4a00-d76a-953060613c78"
      },
      "execution_count": 5,
      "outputs": [
        {
          "output_type": "stream",
          "name": "stderr",
          "text": [
            "Device set to use cpu\n",
            "Both `max_new_tokens` (=256) and `max_length`(=100) seem to have been set. `max_new_tokens` will take precedence. Please refer to the documentation for more information. (https://huggingface.co/docs/transformers/main/en/main_classes/text_generation)\n"
          ]
        },
        {
          "output_type": "stream",
          "name": "stdout",
          "text": [
            "[{'generated_text': 'Em sentido estrito, ciência refere-se ao sistema de adquirir conhecimento baseado no método cietífico de estudo, ou conhecimento obtido.\\n\\nA ciência foi primeiramente introduzida em meados do século XIX, sob o patrocínio de Hans-Joachim von Humboldt, sendo posteriormente difundida por Ferdinand von Humboldt e Wilhelm Friedrich Gauss, que, na década de 1880, fizeram a introdução do método de pesquisa baseado em métodos de classificação de amostras. O primeiro método de classificação de amostras foi o método de classificação de amostras de amostras de amostras de minerais, sendo a mais conhecida a classificação de amostra de minerais por métodos de classificação de amostras de minerais.\\n\\nPara a classificação de amostras de minerais, o método de classificação leva ao método de coloração, por exemplo, o método de coloração da água do mar de carvão, que é utilizado para classificar amostras de amostras de rochas, minerais, algas e cristais minerais.\\n\\nPara a classificação de amostras de minerais, o método de classificação leva ao método de coloração, por exemplo, o método de coloração da água do mar de carvão, que é usado para classificar amostras de rochas, minerais, algas e cristais.\\n\\nA classificação de amostras de rochas é feita através da análise de bases, como minerais, rochas ou minerais. O método de classificação pode ser aplicado a amostras de rochas, minerais, algas, cristais ou até mesmo minerais com alta concentração de minerais.'}]\n"
          ]
        }
      ]
    },
    {
      "cell_type": "code",
      "source": [
        "resultado"
      ],
      "metadata": {
        "colab": {
          "base_uri": "https://localhost:8080/"
        },
        "id": "0hCAPkwvQU82",
        "outputId": "cf959581-7cf4-4649-c64e-448797ff12f3"
      },
      "execution_count": 12,
      "outputs": [
        {
          "output_type": "execute_result",
          "data": {
            "text/plain": [
              "[{'generated_text': 'Em sentido estrito, ciência refere-se ao sistema de adquirir conhecimento baseado no método cietífico de estudo, ou conhecimento obtido.\\n\\nA ciência foi primeiramente introduzida em meados do século XIX, sob o patrocínio de Hans-Joachim von Humboldt, sendo posteriormente difundida por Ferdinand von Humboldt e Wilhelm Friedrich Gauss, que, na década de 1880, fizeram a introdução do método de pesquisa baseado em métodos de classificação de amostras. O primeiro método de classificação de amostras foi o método de classificação de amostras de amostras de amostras de minerais, sendo a mais conhecida a classificação de amostra de minerais por métodos de classificação de amostras de minerais.\\n\\nPara a classificação de amostras de minerais, o método de classificação leva ao método de coloração, por exemplo, o método de coloração da água do mar de carvão, que é utilizado para classificar amostras de amostras de rochas, minerais, algas e cristais minerais.\\n\\nPara a classificação de amostras de minerais, o método de classificação leva ao método de coloração, por exemplo, o método de coloração da água do mar de carvão, que é usado para classificar amostras de rochas, minerais, algas e cristais.\\n\\nA classificação de amostras de rochas é feita através da análise de bases, como minerais, rochas ou minerais. O método de classificação pode ser aplicado a amostras de rochas, minerais, algas, cristais ou até mesmo minerais com alta concentração de minerais.'}]"
            ]
          },
          "metadata": {},
          "execution_count": 12
        }
      ]
    }
  ]
}