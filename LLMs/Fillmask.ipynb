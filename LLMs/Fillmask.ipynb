{
  "nbformat": 4,
  "nbformat_minor": 0,
  "metadata": {
    "colab": {
      "provenance": [],
      "authorship_tag": "ABX9TyN3fUZHe+ks4Z1mUMHerNtI",
      "include_colab_link": true
    },
    "kernelspec": {
      "name": "python3",
      "display_name": "Python 3"
    },
    "language_info": {
      "name": "python"
    }
  },
  "cells": [
    {
      "cell_type": "markdown",
      "metadata": {
        "id": "view-in-github",
        "colab_type": "text"
      },
      "source": [
        "<a href=\"https://colab.research.google.com/github/Kenjiro1/Formacao_IA/blob/main/LLMs/Fillmask.ipynb\" target=\"_parent\"><img src=\"https://colab.research.google.com/assets/colab-badge.svg\" alt=\"Open In Colab\"/></a>"
      ]
    },
    {
      "cell_type": "code",
      "execution_count": 1,
      "metadata": {
        "colab": {
          "base_uri": "https://localhost:8080/"
        },
        "id": "-7MyliL17_fa",
        "outputId": "484e9b0a-1413-4031-e453-6a7d0cdcbe7a"
      },
      "outputs": [
        {
          "output_type": "stream",
          "name": "stdout",
          "text": [
            "Requirement already satisfied: transformers in /usr/local/lib/python3.12/dist-packages (4.57.0)\n",
            "Requirement already satisfied: filelock in /usr/local/lib/python3.12/dist-packages (from transformers) (3.20.0)\n",
            "Requirement already satisfied: huggingface-hub<1.0,>=0.34.0 in /usr/local/lib/python3.12/dist-packages (from transformers) (0.35.3)\n",
            "Requirement already satisfied: numpy>=1.17 in /usr/local/lib/python3.12/dist-packages (from transformers) (2.0.2)\n",
            "Requirement already satisfied: packaging>=20.0 in /usr/local/lib/python3.12/dist-packages (from transformers) (25.0)\n",
            "Requirement already satisfied: pyyaml>=5.1 in /usr/local/lib/python3.12/dist-packages (from transformers) (6.0.3)\n",
            "Requirement already satisfied: regex!=2019.12.17 in /usr/local/lib/python3.12/dist-packages (from transformers) (2024.11.6)\n",
            "Requirement already satisfied: requests in /usr/local/lib/python3.12/dist-packages (from transformers) (2.32.4)\n",
            "Requirement already satisfied: tokenizers<=0.23.0,>=0.22.0 in /usr/local/lib/python3.12/dist-packages (from transformers) (0.22.1)\n",
            "Requirement already satisfied: safetensors>=0.4.3 in /usr/local/lib/python3.12/dist-packages (from transformers) (0.6.2)\n",
            "Requirement already satisfied: tqdm>=4.27 in /usr/local/lib/python3.12/dist-packages (from transformers) (4.67.1)\n",
            "Requirement already satisfied: fsspec>=2023.5.0 in /usr/local/lib/python3.12/dist-packages (from huggingface-hub<1.0,>=0.34.0->transformers) (2025.3.0)\n",
            "Requirement already satisfied: typing-extensions>=3.7.4.3 in /usr/local/lib/python3.12/dist-packages (from huggingface-hub<1.0,>=0.34.0->transformers) (4.15.0)\n",
            "Requirement already satisfied: hf-xet<2.0.0,>=1.1.3 in /usr/local/lib/python3.12/dist-packages (from huggingface-hub<1.0,>=0.34.0->transformers) (1.1.10)\n",
            "Requirement already satisfied: charset_normalizer<4,>=2 in /usr/local/lib/python3.12/dist-packages (from requests->transformers) (3.4.3)\n",
            "Requirement already satisfied: idna<4,>=2.5 in /usr/local/lib/python3.12/dist-packages (from requests->transformers) (3.10)\n",
            "Requirement already satisfied: urllib3<3,>=1.21.1 in /usr/local/lib/python3.12/dist-packages (from requests->transformers) (2.5.0)\n",
            "Requirement already satisfied: certifi>=2017.4.17 in /usr/local/lib/python3.12/dist-packages (from requests->transformers) (2025.10.5)\n"
          ]
        }
      ],
      "source": [
        "!pip install transformers"
      ]
    },
    {
      "cell_type": "code",
      "source": [
        "import transformers\n",
        "from transformers import pipeline"
      ],
      "metadata": {
        "id": "MfNjkUPS8GEm"
      },
      "execution_count": 2,
      "outputs": []
    },
    {
      "cell_type": "code",
      "source": [
        "mascarar = pipeline(\"fill-mask\", model = 'neuralmind/bert-base-portuguese-cased')\n",
        "texto = mascarar(\"Existe uma change do corpo cair no [MASK]\") #Vai fazer qual seria a proxima palavra\n",
        "\n",
        "for x in  range(len(texto)):\n",
        "  print(texto[x])\n",
        "\n",
        "\n",
        "\n",
        "  #Score: chance de ser essa palavra"
      ],
      "metadata": {
        "colab": {
          "base_uri": "https://localhost:8080/",
          "height": 193
        },
        "id": "lziNoMGuDkp_",
        "outputId": "69be8095-60e0-438b-eb61-5a1ecd446eec"
      },
      "execution_count": 6,
      "outputs": [
        {
          "output_type": "stream",
          "name": "stderr",
          "text": [
            "Some weights of the model checkpoint at neuralmind/bert-base-portuguese-cased were not used when initializing BertForMaskedLM: ['bert.pooler.dense.bias', 'bert.pooler.dense.weight', 'cls.seq_relationship.bias', 'cls.seq_relationship.weight']\n",
            "- This IS expected if you are initializing BertForMaskedLM from the checkpoint of a model trained on another task or with another architecture (e.g. initializing a BertForSequenceClassification model from a BertForPreTraining model).\n",
            "- This IS NOT expected if you are initializing BertForMaskedLM from the checkpoint of a model that you expect to be exactly identical (initializing a BertForSequenceClassification model from a BertForSequenceClassification model).\n",
            "Device set to use cpu\n"
          ]
        },
        {
          "output_type": "stream",
          "name": "stdout",
          "text": [
            "{'score': 0.27437683939933777, 'token': 8105, 'token_str': 'chão', 'sequence': 'Existe uma change do corpo cair no chão'}\n",
            "{'score': 0.11440684646368027, 'token': 3037, 'token_str': 'solo', 'sequence': 'Existe uma change do corpo cair no solo'}\n",
            "{'score': 0.045863207429647446, 'token': 119, 'token_str': '.', 'sequence': 'Existe uma change do corpo cair no.'}\n",
            "{'score': 0.04171585664153099, 'token': 388, 'token_str': 'ar', 'sequence': 'Existe uma change do corpo cair no ar'}\n",
            "{'score': 0.02795138582587242, 'token': 528, 'token_str': 'mar', 'sequence': 'Existe uma change do corpo cair no mar'}\n"
          ]
        }
      ]
    },
    {
      "cell_type": "code",
      "source": [
        "texto = mascarar([\"Existe uma change do corpo cair no [MASK]\",\"Brasilia e a capital do [MASK]\"])\n",
        "for x in  range(len(texto)):\n",
        "  print(texto[x])"
      ],
      "metadata": {
        "colab": {
          "base_uri": "https://localhost:8080/"
        },
        "id": "imxdv_dyELcA",
        "outputId": "5d69e7dd-0458-40c8-bb65-7b0b564dfd3d"
      },
      "execution_count": 8,
      "outputs": [
        {
          "output_type": "stream",
          "name": "stdout",
          "text": [
            "[{'score': 0.27437683939933777, 'token': 8105, 'token_str': 'chão', 'sequence': 'Existe uma change do corpo cair no chão'}, {'score': 0.11440684646368027, 'token': 3037, 'token_str': 'solo', 'sequence': 'Existe uma change do corpo cair no solo'}, {'score': 0.045863207429647446, 'token': 119, 'token_str': '.', 'sequence': 'Existe uma change do corpo cair no.'}, {'score': 0.04171585664153099, 'token': 388, 'token_str': 'ar', 'sequence': 'Existe uma change do corpo cair no ar'}, {'score': 0.02795138582587242, 'token': 528, 'token_str': 'mar', 'sequence': 'Existe uma change do corpo cair no mar'}]\n",
            "[{'score': 0.4153504967689514, 'token': 771, 'token_str': 'Brasil', 'sequence': 'Brasilia e a capital do Brasil'}, {'score': 0.14972509443759918, 'token': 806, 'token_str': 'país', 'sequence': 'Brasilia e a capital do país'}, {'score': 0.027016742154955864, 'token': 4953, 'token_str': 'País', 'sequence': 'Brasilia e a capital do País'}, {'score': 0.01974644511938095, 'token': 1147, 'token_str': 'mundo', 'sequence': 'Brasilia e a capital do mundo'}, {'score': 0.01758495904505253, 'token': 2200, 'token_str': 'futebol', 'sequence': 'Brasilia e a capital do futebol'}]\n"
          ]
        }
      ]
    }
  ]
}