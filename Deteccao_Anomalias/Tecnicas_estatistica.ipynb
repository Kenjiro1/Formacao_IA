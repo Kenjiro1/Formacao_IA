{
  "nbformat": 4,
  "nbformat_minor": 0,
  "metadata": {
    "colab": {
      "provenance": [],
      "authorship_tag": "ABX9TyMfeHU1ckddiGiEhs5eHgFF",
      "include_colab_link": true
    },
    "kernelspec": {
      "name": "python3",
      "display_name": "Python 3"
    },
    "language_info": {
      "name": "python"
    }
  },
  "cells": [
    {
      "cell_type": "markdown",
      "metadata": {
        "id": "view-in-github",
        "colab_type": "text"
      },
      "source": [
        "<a href=\"https://colab.research.google.com/github/Kenjiro1/Formacao_IA/blob/main/Deteccao_Anomalias/Tecnicas_estatistica.ipynb\" target=\"_parent\"><img src=\"https://colab.research.google.com/assets/colab-badge.svg\" alt=\"Open In Colab\"/></a>"
      ]
    },
    {
      "cell_type": "markdown",
      "source": [
        "#Z-score"
      ],
      "metadata": {
        "id": "I-qFn9FjD74S"
      }
    },
    {
      "cell_type": "code",
      "execution_count": 7,
      "metadata": {
        "colab": {
          "base_uri": "https://localhost:8080/"
        },
        "id": "oAGNEEhADSA0",
        "outputId": "7739d7bc-9f0f-4747-9370-a0993c3d2e3d"
      },
      "outputs": [
        {
          "output_type": "stream",
          "name": "stdout",
          "text": [
            "[-0.36342865 -0.37816225 -0.36342865 -0.34869506 -0.36342865  0.66792293\n",
            " -0.37816225 -0.33396147 -0.34869506 -0.06875677 -0.33396147 -0.31922787\n",
            "  3.61464175 -0.33396147 -0.34869506]\n"
          ]
        }
      ],
      "source": [
        "import numpy as np\n",
        "import scipy.stats as stats\n",
        "\n",
        "data = np.array([30,29,30,31,30,100,29,32,31,50,32,33,300,32,31])\n",
        "\n",
        "zscore = stats.zscore(data)\n",
        "print(zscore)"
      ]
    },
    {
      "cell_type": "code",
      "source": [
        "anomalia = data[np.abs(zscore>3)]\n",
        "print(anomalia)"
      ],
      "metadata": {
        "colab": {
          "base_uri": "https://localhost:8080/"
        },
        "id": "p47FD7lKDrRR",
        "outputId": "fa0c571e-7f05-4c05-ce3b-4b1047e18d5f"
      },
      "execution_count": 8,
      "outputs": [
        {
          "output_type": "stream",
          "name": "stdout",
          "text": [
            "[300]\n"
          ]
        }
      ]
    },
    {
      "cell_type": "markdown",
      "source": [
        "#IQR method"
      ],
      "metadata": {
        "id": "RwlXlIAdJYMI"
      }
    },
    {
      "cell_type": "code",
      "source": [
        "quartil1 = np.percentile(data, 25)\n",
        "quartil3= np.percentile(data, 75)\n",
        "iqr = quartil3-quartil1\n",
        "#Limite inferior e limite superior\n",
        "\n",
        "limite_inferior = quartil1- 1.5 * iqr\n",
        "\n",
        "limite_superior = quartil3 + 1.5 *iqr\n",
        "\n",
        "\n",
        "outliers = []\n",
        "for value in data:\n",
        "  if value < limite_inferior or value>limite_superior:\n",
        "    outliers.append(value)\n",
        "\n",
        "\n",
        "print('Anomalias ', outliers)"
      ],
      "metadata": {
        "colab": {
          "base_uri": "https://localhost:8080/"
        },
        "id": "-SPrWhmzFneR",
        "outputId": "c07fb68d-de32-4cf9-c458-434bde2897a8"
      },
      "execution_count": 13,
      "outputs": [
        {
          "output_type": "stream",
          "name": "stdout",
          "text": [
            "Anomalias  [np.int64(100), np.int64(50), np.int64(300)]\n"
          ]
        }
      ]
    }
  ]
}